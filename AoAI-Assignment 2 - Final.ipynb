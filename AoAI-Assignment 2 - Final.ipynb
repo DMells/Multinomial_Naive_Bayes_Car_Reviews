{
 "cells": [
  {
   "cell_type": "markdown",
   "id": "thermal-complement",
   "metadata": {},
   "source": [
    "# AoAI - Assignment 2 - Car Reviews Classification"
   ]
  },
  {
   "cell_type": "code",
   "execution_count": 1,
   "id": "juvenile-devon",
   "metadata": {},
   "outputs": [],
   "source": [
    "# Install packages as required\n",
    "# !pip install spacy\n",
    "# !pip install seaborn\n",
    "# !pip install scikit-learn\n",
    "# !pip install pandas\n",
    "# !pip install numpy"
   ]
  },
  {
   "cell_type": "code",
   "execution_count": null,
   "id": "minimal-tumor",
   "metadata": {},
   "outputs": [],
   "source": [
    "import pandas as pd\n",
    "import numpy as np\n",
    "import matplotlib.pyplot as plt\n",
    "import seaborn as sns\n",
    "from collections import Counter\n",
    "import sklearn\n",
    "from sklearn.metrics import confusion_matrix\n",
    "from sklearn.feature_extraction.text import CountVectorizer\n",
    "from sklearn.model_selection import train_test_split\n",
    "from sklearn.naive_bayes import MultinomialNB\n",
    "from sklearn.feature_extraction.text import TfidfVectorizer\n",
    "import spacy\n",
    "!python -m spacy download en_core_web_sm"
   ]
  },
  {
   "cell_type": "markdown",
   "id": "listed-nowhere",
   "metadata": {},
   "source": [
    "# Part One"
   ]
  },
  {
   "cell_type": "code",
   "execution_count": 3,
   "id": "saved-herald",
   "metadata": {},
   "outputs": [],
   "source": [
    "# Import dataset\n",
    "df = pd.read_csv('car-reviews.csv')\n",
    "\n",
    "# Shuffle with seed (random_state) and reset index\n",
    "df = df.sample(frac=1, random_state=1).reset_index(drop=True)"
   ]
  },
  {
   "cell_type": "markdown",
   "id": "driven-dressing",
   "metadata": {},
   "source": [
    "A brief inspection of the dataframe below reveals there are 1,382 reviews in total, with 2 classes each having 691 rows each. None of the reviews are duplicates as can be seen by the entire 1,382 rows being unique"
   ]
  },
  {
   "cell_type": "code",
   "execution_count": 4,
   "id": "cloudy-amino",
   "metadata": {},
   "outputs": [
    {
     "data": {
      "text/html": [
       "<div>\n",
       "<style scoped>\n",
       "    .dataframe tbody tr th:only-of-type {\n",
       "        vertical-align: middle;\n",
       "    }\n",
       "\n",
       "    .dataframe tbody tr th {\n",
       "        vertical-align: top;\n",
       "    }\n",
       "\n",
       "    .dataframe thead th {\n",
       "        text-align: right;\n",
       "    }\n",
       "</style>\n",
       "<table border=\"1\" class=\"dataframe\">\n",
       "  <thead>\n",
       "    <tr style=\"text-align: right;\">\n",
       "      <th></th>\n",
       "      <th>Sentiment</th>\n",
       "      <th>Review</th>\n",
       "    </tr>\n",
       "  </thead>\n",
       "  <tbody>\n",
       "    <tr>\n",
       "      <th>count</th>\n",
       "      <td>1382</td>\n",
       "      <td>1382</td>\n",
       "    </tr>\n",
       "    <tr>\n",
       "      <th>unique</th>\n",
       "      <td>2</td>\n",
       "      <td>1382</td>\n",
       "    </tr>\n",
       "    <tr>\n",
       "      <th>top</th>\n",
       "      <td>Pos</td>\n",
       "      <td>Okay I have to admit this is my first Ford  U...</td>\n",
       "    </tr>\n",
       "    <tr>\n",
       "      <th>freq</th>\n",
       "      <td>691</td>\n",
       "      <td>1</td>\n",
       "    </tr>\n",
       "  </tbody>\n",
       "</table>\n",
       "</div>"
      ],
      "text/plain": [
       "       Sentiment                                             Review\n",
       "count       1382                                               1382\n",
       "unique         2                                               1382\n",
       "top          Pos   Okay I have to admit this is my first Ford  U...\n",
       "freq         691                                                  1"
      ]
     },
     "execution_count": 4,
     "metadata": {},
     "output_type": "execute_result"
    }
   ],
   "source": [
    "df.describe()"
   ]
  },
  {
   "cell_type": "code",
   "execution_count": 5,
   "id": "purple-internet",
   "metadata": {},
   "outputs": [
    {
     "name": "stdout",
     "output_type": "stream",
     "text": [
      "The average length of the Positive reviews is 2201 characters.\n",
      "The average length of the Negative reviews is 2448 characters.\n"
     ]
    }
   ],
   "source": [
    "print(f\"The average length of the Positive reviews is {round(df[df['Sentiment']=='Pos']['Review'].str.len().mean())} characters.\")\n",
    "print(f\"The average length of the Negative reviews is {round(df[df['Sentiment']=='Neg']['Review'].str.len().mean())} characters.\")"
   ]
  },
  {
   "cell_type": "markdown",
   "id": "static-commons",
   "metadata": {},
   "source": [
    "\n",
    "### ASSESSMENT CRITERIA 1.1 - exclusion of stop words, punctuation, and case-insensitive handling\n",
    "    "
   ]
  },
  {
   "cell_type": "code",
   "execution_count": 6,
   "id": "ultimate-retrieval",
   "metadata": {},
   "outputs": [],
   "source": [
    "class Preprocess:\n",
    "    \"\"\"\n",
    "        For each review in the dataset, this class:\n",
    "        1. Removes punctuation and stop words from each review\n",
    "        2. Removes any non-alphabetical tokens\n",
    "        3. Lemmatises the token and converts to lower case\n",
    "        4. Removes lemmas < 2 characters in length\n",
    "        \"\"\"\n",
    "   \n",
    "    def main(self, review):\n",
    "        \"\"\"\n",
    "        The main function for the preprocessing pipeline, which calls the other preprocessing functions\n",
    "        on each token in the given review.\n",
    "        \n",
    "        The lemmatisation step is only applied if the token is not a stop word, is not punctuation,\n",
    "        and is above 2 characters in length\n",
    "        \n",
    "        param review : the original review string\n",
    "        returns preprocessed_review: a cleaned string of lemmas\n",
    "        \"\"\"\n",
    "        \n",
    "        preprocessed_review_tokens = [self.lemmatise_lower_token(token) for token in review\n",
    "                                          if self.is_not_stop_word(token) \n",
    "                                          and self.is_not_punctuation(token)\n",
    "                                          and self.is_not_short(token)\n",
    "                                     ]\n",
    "        \n",
    "        # Join list together to re-form as a sentence\n",
    "        preprocessed_review = ' '.join(preprocessed_review_tokens)\n",
    "\n",
    "        return preprocessed_review\n",
    "    \n",
    "    def is_not_stop_word(self, token):\n",
    "        \"\"\"\n",
    "        Filter out stop words as well as any blank tokens\n",
    "        \"\"\"\n",
    "        if (not token.text.strip() or not token or token.is_stop):\n",
    "            return False\n",
    "        return True\n",
    "    \n",
    "    def is_not_short(self, token):\n",
    "        \"\"\"\n",
    "        Trims the review for any tokens less than or equal to two characters in length\n",
    "        \"\"\"\n",
    "        if len(token) <=2:\n",
    "            return False\n",
    "        return True\n",
    "\n",
    "    def is_not_punctuation(self, token):\n",
    "        \"\"\"\n",
    "        Filter out punctuation\n",
    "        \"\"\"\n",
    "        if token.is_punct:\n",
    "            return False\n",
    "        return True\n",
    "\n",
    "    def lemmatise_lower_token(self, token):\n",
    "        \"\"\"\n",
    "        Reduce token to its lowercase lemma form if it is alphabetical in nature\n",
    "        \"\"\"\n",
    "\n",
    "        if token.text.isalpha():\n",
    "            return token.lemma_.strip().lower()\n",
    "        return ''\n",
    "\n",
    "    "
   ]
  },
  {
   "cell_type": "code",
   "execution_count": 7,
   "id": "equipped-device",
   "metadata": {},
   "outputs": [],
   "source": [
    "# Initialise Spacy's Language class with the english vocabulary.\n",
    "# To save processing time exclude the named entity recognition and dependency parsing modules.\n",
    "nlp = spacy.load('en_core_web_sm', exclude=['ner','parser'])"
   ]
  },
  {
   "cell_type": "code",
   "execution_count": 8,
   "id": "disturbed-split",
   "metadata": {},
   "outputs": [],
   "source": [
    "# Apply the preprocessing class - see class docstrings for details\n",
    "# Note : this takes about 45 seconds to process\n",
    "df[\"Review_Preprocessed\"] = [Preprocess().main(doc) for doc in nlp.pipe(df[\"Review\"].tolist())]"
   ]
  },
  {
   "cell_type": "markdown",
   "id": "lyric-luxembourg",
   "metadata": {},
   "source": [
    "The below cell shows a sample of the original reviews and the preprocessed reviews. It can be seen that all words have been lowercased, stopwords as well as numbers have been removed, and any punctuation that may exist or words shorter than 3 characters have been removed too."
   ]
  },
  {
   "cell_type": "code",
   "execution_count": 53,
   "id": "passing-harbor",
   "metadata": {},
   "outputs": [
    {
     "data": {
      "text/html": [
       "<div>\n",
       "<style scoped>\n",
       "    .dataframe tbody tr th:only-of-type {\n",
       "        vertical-align: middle;\n",
       "    }\n",
       "\n",
       "    .dataframe tbody tr th {\n",
       "        vertical-align: top;\n",
       "    }\n",
       "\n",
       "    .dataframe thead th {\n",
       "        text-align: right;\n",
       "    }\n",
       "</style>\n",
       "<table border=\"1\" class=\"dataframe\">\n",
       "  <thead>\n",
       "    <tr style=\"text-align: right;\">\n",
       "      <th></th>\n",
       "      <th>Sentiment</th>\n",
       "      <th>Review</th>\n",
       "      <th>Review_Preprocessed</th>\n",
       "    </tr>\n",
       "  </thead>\n",
       "  <tbody>\n",
       "    <tr>\n",
       "      <th>0</th>\n",
       "      <td>Pos</td>\n",
       "      <td>Being a young  single person  such as myself ...</td>\n",
       "      <td>young single person need minivan check nonethe...</td>\n",
       "    </tr>\n",
       "    <tr>\n",
       "      <th>1</th>\n",
       "      <td>Pos</td>\n",
       "      <td>First I ll say this  The 1995  and  to some e...</td>\n",
       "      <td>extent windstar sucked reliability wise model...</td>\n",
       "    </tr>\n",
       "    <tr>\n",
       "      <th>2</th>\n",
       "      <td>Pos</td>\n",
       "      <td>I have owned my Ford Econoline full size van ...</td>\n",
       "      <td>own ford econoline size van regency custom con...</td>\n",
       "    </tr>\n",
       "    <tr>\n",
       "      <th>3</th>\n",
       "      <td>Pos</td>\n",
       "      <td>We bought our car brand new four years ago  I...</td>\n",
       "      <td>buy car brand new year ago want car perfect co...</td>\n",
       "    </tr>\n",
       "    <tr>\n",
       "      <th>4</th>\n",
       "      <td>Neg</td>\n",
       "      <td>I bought my 1997 Taurus LX from Tom Wood Ford...</td>\n",
       "      <td>buy  taurus tom wood ford indianapolis april  ...</td>\n",
       "    </tr>\n",
       "  </tbody>\n",
       "</table>\n",
       "</div>"
      ],
      "text/plain": [
       "  Sentiment                                             Review  \\\n",
       "0       Pos   Being a young  single person  such as myself ...   \n",
       "1       Pos   First I ll say this  The 1995  and  to some e...   \n",
       "2       Pos   I have owned my Ford Econoline full size van ...   \n",
       "3       Pos   We bought our car brand new four years ago  I...   \n",
       "4       Neg   I bought my 1997 Taurus LX from Tom Wood Ford...   \n",
       "\n",
       "                                 Review_Preprocessed  \n",
       "0  young single person need minivan check nonethe...  \n",
       "1   extent windstar sucked reliability wise model...  \n",
       "2  own ford econoline size van regency custom con...  \n",
       "3  buy car brand new year ago want car perfect co...  \n",
       "4  buy  taurus tom wood ford indianapolis april  ...  "
      ]
     },
     "execution_count": 53,
     "metadata": {},
     "output_type": "execute_result"
    }
   ],
   "source": [
    "df[:5]"
   ]
  },
  {
   "cell_type": "markdown",
   "id": "southeast-store",
   "metadata": {},
   "source": [
    "### ASSESSMENT CRITERIA 1.2 - demonstration of lemmatisation\n",
    "\n",
    "Lemmatisation is demonstrated below using the function `lemmatise_lower_token()` which is also applied to the dataset in the `Preprocess` class above.\n",
    "\n",
    "It was decided to use lemmatising due it's more advanced abilities of being able to convert a word into a meaningful base-word, as well as being able to distinguish words by their Part of Speech. This is shown in Demo 1 below where the word 'drivers' is correctly converted to 'driver' rather than being converted to 'drive'. This is because the lemma of a plural noun is the singular noun rather than the lemma of the related verb i.e. they belong to a different set of lexemes.\n",
    "\n",
    "The words contained in the rest of the demos are all converted to the same lemma respectively."
   ]
  },
  {
   "cell_type": "code",
   "execution_count": 10,
   "id": "comparative-patch",
   "metadata": {},
   "outputs": [
    {
     "name": "stdout",
     "output_type": "stream",
     "text": [
      "Lemmatisation Demo 1:\n",
      " Input string : driving drove drivers            \n",
      " Lemmatised output :['drive', 'drive', 'driver']\n",
      "\n",
      "\n",
      "Lemmatisation Demo 2:\n",
      " Input string : requires required requiring            \n",
      " Lemmatised output : ['require', 'require', 'require']\n",
      "\n",
      "\n",
      "Lemmatisation Demo 3:\n",
      " Input string : spaces spaced spacing            \n",
      " Lemmatised output : ['space', 'space', 'space']\n",
      "\n",
      "\n"
     ]
    }
   ],
   "source": [
    "# LEMMATISATION DEMO 1\n",
    "demo1 = nlp('driving drove drivers')\n",
    "print(f\"Lemmatisation Demo 1:\\n Input string : {demo1.text}\\\n",
    "            \\n Lemmatised output :{[Preprocess().lemmatise_lower_token(token) for token in demo1]}\\n\\n\")\n",
    "\n",
    "# LEMMATISATION DEMO 2\n",
    "demo2 = nlp('requires required requiring')\n",
    "print(f\"Lemmatisation Demo 2:\\n Input string : {demo2.text}\\\n",
    "            \\n Lemmatised output : {[Preprocess().lemmatise_lower_token(token) for token in demo2]}\\n\\n\")\n",
    "\n",
    "# LEMMATISATION DEMO 3\n",
    "demo3 = nlp('spaces spaced spacing')\n",
    "print(f\"Lemmatisation Demo 3:\\n Input string : {demo3.text}\\\n",
    "            \\n Lemmatised output : {[Preprocess().lemmatise_lower_token(token) for token in demo3]}\\n\\n\")"
   ]
  },
  {
   "cell_type": "markdown",
   "id": "noble-atmosphere",
   "metadata": {},
   "source": [
    "### ASSESSMENT CRITERIA 1.5 (partial) - Split data into 80% training & 20% testing sets"
   ]
  },
  {
   "cell_type": "code",
   "execution_count": 11,
   "id": "laughing-constitution",
   "metadata": {},
   "outputs": [],
   "source": [
    "# Split dataset into 80% training and 20% testing set, using `stratify` to ensure a balanced representation of \n",
    "# positive and negative reviews in both sets.\n",
    "df_train, df_test = train_test_split(df, test_size=0.2, stratify=df['Sentiment'],random_state=1)"
   ]
  },
  {
   "cell_type": "markdown",
   "id": "engaged-puzzle",
   "metadata": {},
   "source": [
    "### ASSESSMENT CRITERIA 1.3 -  Vectorising Reviews"
   ]
  },
  {
   "cell_type": "code",
   "execution_count": 12,
   "id": "immune-colony",
   "metadata": {},
   "outputs": [],
   "source": [
    "# Set seed to ensure reproducibility of results\n",
    "np.random.seed(100)\n",
    "\n",
    "# Initialise Bag of Words (CountVectorizer()) with unigrams (ngram_range) \n",
    "# and setting binary=False to output absolute lemma counts.\n",
    "bow = CountVectorizer(ngram_range=(1, 1), binary=False)"
   ]
  },
  {
   "cell_type": "code",
   "execution_count": 13,
   "id": "valuable-visit",
   "metadata": {},
   "outputs": [],
   "source": [
    "# Fit the bag of words model using only the training dataset to prevent leakage, \n",
    "# and transform the training set to an array of vectors\n",
    "X_train = bow.fit_transform(df_train['Review_Preprocessed'].values)"
   ]
  },
  {
   "cell_type": "code",
   "execution_count": 14,
   "id": "combined-transportation",
   "metadata": {},
   "outputs": [
    {
     "data": {
      "text/plain": [
       "10578"
      ]
     },
     "execution_count": 14,
     "metadata": {},
     "output_type": "execute_result"
    }
   ],
   "source": [
    "# The bag of words vectorizer contains 10,578 unique lemmas...\n",
    "len(bow.vocabulary_.keys())"
   ]
  },
  {
   "cell_type": "code",
   "execution_count": 15,
   "id": "sustainable-belle",
   "metadata": {},
   "outputs": [
    {
     "data": {
      "text/plain": [
       "(1105, 10578)"
      ]
     },
     "execution_count": 15,
     "metadata": {},
     "output_type": "execute_result"
    }
   ],
   "source": [
    "# ...which is reflected in the shape of the array once it has been transformed using the fitted CountVectorizer.\n",
    "X_train.toarray().shape"
   ]
  },
  {
   "cell_type": "markdown",
   "id": "fifth-diamond",
   "metadata": {},
   "source": [
    "The below cells show samples of the lemmatised reviews being converted to a vector of counts per appearance of each lemma. Each demo consists of a single preprocessed review in a dataframe combined with the top 10 (unigram) lemma counts (i.e. the output of the vectoriser) for that review.\n",
    "\n",
    "##### Vector Demo 1"
   ]
  },
  {
   "cell_type": "code",
   "execution_count": 16,
   "id": "formed-handle",
   "metadata": {},
   "outputs": [
    {
     "data": {
      "text/html": [
       "<div>\n",
       "<style scoped>\n",
       "    .dataframe tbody tr th:only-of-type {\n",
       "        vertical-align: middle;\n",
       "    }\n",
       "\n",
       "    .dataframe tbody tr th {\n",
       "        vertical-align: top;\n",
       "    }\n",
       "\n",
       "    .dataframe thead th {\n",
       "        text-align: right;\n",
       "    }\n",
       "</style>\n",
       "<table border=\"1\" class=\"dataframe\">\n",
       "  <thead>\n",
       "    <tr style=\"text-align: right;\">\n",
       "      <th></th>\n",
       "      <th>Review_Preprocessed</th>\n",
       "      <th>car</th>\n",
       "      <th>door</th>\n",
       "      <th>ford</th>\n",
       "      <th>unlocked</th>\n",
       "      <th>family</th>\n",
       "      <th>wonderful</th>\n",
       "      <th>taurus</th>\n",
       "      <th>nice</th>\n",
       "      <th>driver</th>\n",
       "      <th>drive</th>\n",
       "    </tr>\n",
       "  </thead>\n",
       "  <tbody>\n",
       "    <tr>\n",
       "      <th>0</th>\n",
       "      <td>husband come ford family vehicle buy ford majo...</td>\n",
       "      <td>7</td>\n",
       "      <td>4</td>\n",
       "      <td>4</td>\n",
       "      <td>3</td>\n",
       "      <td>3</td>\n",
       "      <td>3</td>\n",
       "      <td>3</td>\n",
       "      <td>2</td>\n",
       "      <td>2</td>\n",
       "      <td>2</td>\n",
       "    </tr>\n",
       "  </tbody>\n",
       "</table>\n",
       "</div>"
      ],
      "text/plain": [
       "                                 Review_Preprocessed  car  door  ford  \\\n",
       "0  husband come ford family vehicle buy ford majo...    7     4     4   \n",
       "\n",
       "   unlocked  family  wonderful  taurus  nice  driver  drive  \n",
       "0         3       3          3       3     2       2      2  "
      ]
     },
     "execution_count": 16,
     "metadata": {},
     "output_type": "execute_result"
    }
   ],
   "source": [
    "# Create sample dataframe of BoW outputs\n",
    "count_vect_df = pd.DataFrame(X_train[:1].todense(), columns=bow.get_feature_names())\n",
    "\n",
    "# Re-order counts in descending order. Keep top 10 counts for demo purposes\n",
    "# Credit : https://stackoverflow.com/questions/12358360/order-columns-of-a-pandas-dataframe-according-to-the-values-in-a-row\n",
    "count_vect_df= count_vect_df[count_vect_df.iloc[-1,:].sort_values(ascending=False).index[:10]]\n",
    "\n",
    "# Combine lemmatised review with BoW counts\n",
    "pd.concat([df_train['Review_Preprocessed'][:1].reset_index(drop=True), count_vect_df], axis=1)"
   ]
  },
  {
   "cell_type": "markdown",
   "id": "quiet-flavor",
   "metadata": {},
   "source": [
    "##### Vector Demo 2"
   ]
  },
  {
   "cell_type": "code",
   "execution_count": 17,
   "id": "biological-barbados",
   "metadata": {},
   "outputs": [
    {
     "data": {
      "text/html": [
       "<div>\n",
       "<style scoped>\n",
       "    .dataframe tbody tr th:only-of-type {\n",
       "        vertical-align: middle;\n",
       "    }\n",
       "\n",
       "    .dataframe tbody tr th {\n",
       "        vertical-align: top;\n",
       "    }\n",
       "\n",
       "    .dataframe thead th {\n",
       "        text-align: right;\n",
       "    }\n",
       "</style>\n",
       "<table border=\"1\" class=\"dataframe\">\n",
       "  <thead>\n",
       "    <tr style=\"text-align: right;\">\n",
       "      <th></th>\n",
       "      <th>Review_Preprocessed</th>\n",
       "      <th>excursion</th>\n",
       "      <th>ford</th>\n",
       "      <th>vehicle</th>\n",
       "      <th>buy</th>\n",
       "      <th>gas</th>\n",
       "      <th>kill</th>\n",
       "      <th>opinion</th>\n",
       "      <th>safe</th>\n",
       "      <th>fuel</th>\n",
       "      <th>big</th>\n",
       "    </tr>\n",
       "  </thead>\n",
       "  <tbody>\n",
       "    <tr>\n",
       "      <th>0</th>\n",
       "      <td>segment add later appear ford finally come ter...</td>\n",
       "      <td>7</td>\n",
       "      <td>6</td>\n",
       "      <td>6</td>\n",
       "      <td>5</td>\n",
       "      <td>5</td>\n",
       "      <td>5</td>\n",
       "      <td>4</td>\n",
       "      <td>4</td>\n",
       "      <td>4</td>\n",
       "      <td>4</td>\n",
       "    </tr>\n",
       "  </tbody>\n",
       "</table>\n",
       "</div>"
      ],
      "text/plain": [
       "                                 Review_Preprocessed  excursion  ford  \\\n",
       "0  segment add later appear ford finally come ter...          7     6   \n",
       "\n",
       "   vehicle  buy  gas  kill  opinion  safe  fuel  big  \n",
       "0        6    5    5     5        4     4     4    4  "
      ]
     },
     "execution_count": 17,
     "metadata": {},
     "output_type": "execute_result"
    }
   ],
   "source": [
    "# Process as above with demo 1\n",
    "count_vect_df = pd.DataFrame(X_train[1:2].todense(), columns=bow.get_feature_names())\n",
    "\n",
    "count_vect_df= count_vect_df[count_vect_df.iloc[-1,:].sort_values(ascending=False).index[:10]]\n",
    "\n",
    "pd.concat([df_train['Review_Preprocessed'][1:2].reset_index(drop=True), count_vect_df], axis=1)"
   ]
  },
  {
   "cell_type": "markdown",
   "id": "apparent-worthy",
   "metadata": {},
   "source": [
    "##### Vector Demo 3"
   ]
  },
  {
   "cell_type": "code",
   "execution_count": 18,
   "id": "emotional-twelve",
   "metadata": {},
   "outputs": [
    {
     "data": {
      "text/html": [
       "<div>\n",
       "<style scoped>\n",
       "    .dataframe tbody tr th:only-of-type {\n",
       "        vertical-align: middle;\n",
       "    }\n",
       "\n",
       "    .dataframe tbody tr th {\n",
       "        vertical-align: top;\n",
       "    }\n",
       "\n",
       "    .dataframe thead th {\n",
       "        text-align: right;\n",
       "    }\n",
       "</style>\n",
       "<table border=\"1\" class=\"dataframe\">\n",
       "  <thead>\n",
       "    <tr style=\"text-align: right;\">\n",
       "      <th></th>\n",
       "      <th>Review_Preprocessed</th>\n",
       "      <th>door</th>\n",
       "      <th>car</th>\n",
       "      <th>big</th>\n",
       "      <th>small</th>\n",
       "      <th>drive</th>\n",
       "      <th>size</th>\n",
       "      <th>sport</th>\n",
       "      <th>utility</th>\n",
       "      <th>happy</th>\n",
       "      <th>time</th>\n",
       "    </tr>\n",
       "  </thead>\n",
       "  <tbody>\n",
       "    <tr>\n",
       "      <th>0</th>\n",
       "      <td>alright interested buy sport utility vehicle t...</td>\n",
       "      <td>5</td>\n",
       "      <td>4</td>\n",
       "      <td>3</td>\n",
       "      <td>3</td>\n",
       "      <td>3</td>\n",
       "      <td>3</td>\n",
       "      <td>2</td>\n",
       "      <td>2</td>\n",
       "      <td>2</td>\n",
       "      <td>2</td>\n",
       "    </tr>\n",
       "  </tbody>\n",
       "</table>\n",
       "</div>"
      ],
      "text/plain": [
       "                                 Review_Preprocessed  door  car  big  small  \\\n",
       "0  alright interested buy sport utility vehicle t...     5    4    3      3   \n",
       "\n",
       "   drive  size  sport  utility  happy  time  \n",
       "0      3     3      2        2      2     2  "
      ]
     },
     "execution_count": 18,
     "metadata": {},
     "output_type": "execute_result"
    }
   ],
   "source": [
    "# Process as above with demo 1\n",
    "count_vect_df = pd.DataFrame(X_train[2:3].todense(), columns=bow.get_feature_names())\n",
    "\n",
    "count_vect_df= count_vect_df[count_vect_df.iloc[-1,:].sort_values(ascending=False).index[:10]]\n",
    "\n",
    "pd.concat([df_train['Review_Preprocessed'][2:3].reset_index(drop=True), count_vect_df], axis=1)"
   ]
  },
  {
   "cell_type": "markdown",
   "id": "completed-north",
   "metadata": {},
   "source": [
    "### ASSESSMENT CRITERIA 1.4 - Appropriate Naïve Bayes model"
   ]
  },
  {
   "cell_type": "markdown",
   "id": "dated-borough",
   "metadata": {},
   "source": [
    "For this classification task, the Multinomial Naïve Bayes model is appropriate, as it is able to capture information pertaining to the frequency of words in the reviews [1], which is relevant because of the non-binary format of the vectorised data."
   ]
  },
  {
   "cell_type": "code",
   "execution_count": 19,
   "id": "subjective-runner",
   "metadata": {},
   "outputs": [],
   "source": [
    "# Instantiate Multinomial Naïve Bayes model from scikit-learn\n",
    "bow_mnb = MultinomialNB()"
   ]
  },
  {
   "cell_type": "markdown",
   "id": "separate-mention",
   "metadata": {},
   "source": [
    "### ASSESSMENT CRITERIA 1.5 (continued)\n",
    "- Use of 80% of data to train model\n",
    "- Remaining 20% used as test data\n",
    "- Up until this point, test data has not been used for anything"
   ]
  },
  {
   "cell_type": "code",
   "execution_count": 20,
   "id": "innovative-database",
   "metadata": {},
   "outputs": [
    {
     "data": {
      "text/plain": [
       "MultinomialNB()"
      ]
     },
     "execution_count": 20,
     "metadata": {},
     "output_type": "execute_result"
    }
   ],
   "source": [
    "# Fit model using the BoW vectors and labels of only the training set\n",
    "bow_mnb.fit(X_train, df_train['Sentiment'].values)"
   ]
  },
  {
   "cell_type": "markdown",
   "id": "compatible-portland",
   "metadata": {},
   "source": [
    "### Proof that model can cope with words in test set that are not in the training set\n",
    "\n",
    "The below cells are an investigation into how the model handles words that it has not seen before when making predictions.\n",
    "\n"
   ]
  },
  {
   "cell_type": "code",
   "execution_count": 21,
   "id": "biological-vocabulary",
   "metadata": {},
   "outputs": [],
   "source": [
    "# First create a list of all unique words/lemmas in the training set\n",
    "words_in_train_set = list(bow.vocabulary_.keys())"
   ]
  },
  {
   "cell_type": "code",
   "execution_count": 22,
   "id": "mounted-console",
   "metadata": {},
   "outputs": [],
   "source": [
    "# Instantiate Counter to track words that are in the test set but not in the training set\n",
    "words_unique_to_testset = Counter()\n",
    "\n",
    "# For each row in the test set\n",
    "for row in df_test['Review_Preprocessed'].str.lower().str.split():\n",
    "    # For each word in that row\n",
    "    for word in row:\n",
    "        # If that word is not in the training set\n",
    "        if word not in words_in_train_set:\n",
    "            # Add to Counter\n",
    "            words_unique_to_testset[word]+=1\n",
    "            \n",
    "words_unique_to_testset = list(words_unique_to_testset.keys())"
   ]
  },
  {
   "cell_type": "code",
   "execution_count": 23,
   "id": "formal-orlando",
   "metadata": {},
   "outputs": [
    {
     "name": "stdout",
     "output_type": "stream",
     "text": [
      "Random sentence containing words only in test set:\n",
      "\n",
      " 'denominator wells nee eddied sealing ducting damaged saftety premise poverty'\n"
     ]
    }
   ],
   "source": [
    "# Convert the first ten words into a single string and convert to vector\n",
    "missing_words_vect = bow.transform([' '.join(words_unique_to_testset[:10])])\n",
    "\n",
    "print(f\"Random sentence containing words only in test set:\\n\\n '{' '.join(words_unique_to_testset[:10])}'\")"
   ]
  },
  {
   "cell_type": "code",
   "execution_count": 24,
   "id": "guided-country",
   "metadata": {},
   "outputs": [],
   "source": [
    "# Investigate vector\n",
    "\n",
    "# Convert to pandas dataframe\n",
    "count_vect_df = pd.DataFrame(missing_words_vect.todense(), columns=bow.get_feature_names())\n",
    "\n",
    "# Re-order counts in descending order. Keep top 10 counts for demo purposes\n",
    "count_vect_df= count_vect_df[count_vect_df.iloc[-1,:].sort_values(ascending=False).index[:10]]"
   ]
  },
  {
   "cell_type": "markdown",
   "id": "pending-viking",
   "metadata": {},
   "source": [
    "The below cell prints the output of the vectorised (in descending order) string containing words only in the test set. "
   ]
  },
  {
   "cell_type": "code",
   "execution_count": 25,
   "id": "honey-ethiopia",
   "metadata": {},
   "outputs": [
    {
     "data": {
      "text/html": [
       "<div>\n",
       "<style scoped>\n",
       "    .dataframe tbody tr th:only-of-type {\n",
       "        vertical-align: middle;\n",
       "    }\n",
       "\n",
       "    .dataframe tbody tr th {\n",
       "        vertical-align: top;\n",
       "    }\n",
       "\n",
       "    .dataframe thead th {\n",
       "        text-align: right;\n",
       "    }\n",
       "</style>\n",
       "<table border=\"1\" class=\"dataframe\">\n",
       "  <thead>\n",
       "    <tr style=\"text-align: right;\">\n",
       "      <th></th>\n",
       "      <th>aaa</th>\n",
       "      <th>preschool</th>\n",
       "      <th>presence</th>\n",
       "      <th>present</th>\n",
       "      <th>presently</th>\n",
       "      <th>preservation</th>\n",
       "      <th>preserve</th>\n",
       "      <th>preset</th>\n",
       "      <th>president</th>\n",
       "      <th>press</th>\n",
       "    </tr>\n",
       "  </thead>\n",
       "  <tbody>\n",
       "    <tr>\n",
       "      <th>0</th>\n",
       "      <td>0</td>\n",
       "      <td>0</td>\n",
       "      <td>0</td>\n",
       "      <td>0</td>\n",
       "      <td>0</td>\n",
       "      <td>0</td>\n",
       "      <td>0</td>\n",
       "      <td>0</td>\n",
       "      <td>0</td>\n",
       "      <td>0</td>\n",
       "    </tr>\n",
       "  </tbody>\n",
       "</table>\n",
       "</div>"
      ],
      "text/plain": [
       "   aaa  preschool  presence  present  presently  preservation  preserve  \\\n",
       "0    0          0         0        0          0             0         0   \n",
       "\n",
       "   preset  president  press  \n",
       "0       0          0      0  "
      ]
     },
     "execution_count": 25,
     "metadata": {},
     "output_type": "execute_result"
    }
   ],
   "source": [
    "count_vect_df"
   ]
  },
  {
   "cell_type": "markdown",
   "id": "interstate-chrome",
   "metadata": {},
   "source": [
    "\n",
    "<b>This shows that missing words are handled at the vectorising stage, whereby the vector is just an array of all zeros. This means that any word that hasn't been seen before gets a count of 0.</b>\n",
    "\n",
    "To further verify, the below cells run the string (containing all unseen words) through the classifier."
   ]
  },
  {
   "cell_type": "code",
   "execution_count": 26,
   "id": "studied-elite",
   "metadata": {},
   "outputs": [
    {
     "data": {
      "text/plain": [
       "array(['Neg'], dtype='<U3')"
      ]
     },
     "execution_count": 26,
     "metadata": {},
     "output_type": "execute_result"
    }
   ],
   "source": [
    "# Running that string through the classifier outputs 'Neg'\n",
    "bow_mnb.predict(missing_words_vect)"
   ]
  },
  {
   "cell_type": "code",
   "execution_count": 27,
   "id": "brown-transaction",
   "metadata": {},
   "outputs": [
    {
     "data": {
      "text/plain": [
       "array([[0.50045249, 0.49954751]])"
      ]
     },
     "execution_count": 27,
     "metadata": {},
     "output_type": "execute_result"
    }
   ],
   "source": [
    "# However we can see that the probabilities of the two classes are almost identical. \n",
    "# This shows that words that the model has never seen before bare minimal impact on the classification.\n",
    "bow_mnb.predict_proba(missing_words_vect)"
   ]
  },
  {
   "cell_type": "code",
   "execution_count": 28,
   "id": "moved-northeast",
   "metadata": {},
   "outputs": [],
   "source": [
    "# Adding a positive word that IS in the training set changes the prediction to 'Pos'\n",
    "missing_words_vect_adj = bow.transform([' '.join(words_unique_to_testset[:10])+ ' great'] )"
   ]
  },
  {
   "cell_type": "code",
   "execution_count": 29,
   "id": "incorrect-virginia",
   "metadata": {},
   "outputs": [
    {
     "data": {
      "text/plain": [
       "array(['Pos'], dtype='<U3')"
      ]
     },
     "execution_count": 29,
     "metadata": {},
     "output_type": "execute_result"
    }
   ],
   "source": [
    "bow_mnb.predict(missing_words_vect_adj)"
   ]
  },
  {
   "cell_type": "code",
   "execution_count": 30,
   "id": "modern-toronto",
   "metadata": {},
   "outputs": [
    {
     "data": {
      "text/plain": [
       "array([[0.33163719, 0.66836281]])"
      ]
     },
     "execution_count": 30,
     "metadata": {},
     "output_type": "execute_result"
    }
   ],
   "source": [
    "# The impact of adding a single positive word on the resulting probability vector is shown below,\n",
    "# now with a 67% probability of being 'Pos'\n",
    "bow_mnb.predict_proba(missing_words_vect_adj)"
   ]
  },
  {
   "cell_type": "markdown",
   "id": "senior-laser",
   "metadata": {},
   "source": [
    "### ASSESSMENT CRITERIA 1.6 - Output of Bag Of Words Model Confusion Matrix\n",
    "\n",
    "The below cells run the test datase through the Bag of Words vectoriser and then the fitted Multinomial Naïve Bayes model to obtain predictions on unseen data."
   ]
  },
  {
   "cell_type": "markdown",
   "id": "ordered-sunglasses",
   "metadata": {},
   "source": [
    "#### Predictions"
   ]
  },
  {
   "cell_type": "code",
   "execution_count": 31,
   "id": "uniform-senegal",
   "metadata": {},
   "outputs": [],
   "source": [
    "# Using the already-fitted BoW model, transform the test set into BoW vectors\n",
    "bow_test_vect = bow.transform(df_test['Review_Preprocessed'].values)"
   ]
  },
  {
   "cell_type": "code",
   "execution_count": 32,
   "id": "closed-anime",
   "metadata": {},
   "outputs": [],
   "source": [
    "# Test model using the test data set\n",
    "bow_prediction = bow_mnb.predict(bow_test_vect)"
   ]
  },
  {
   "cell_type": "code",
   "execution_count": 33,
   "id": "identical-hawaiian",
   "metadata": {},
   "outputs": [],
   "source": [
    "# Combine predictions with original test dataset\n",
    "results_df = pd.merge(left=df_test[['Review','Sentiment']].reset_index(drop=True),\\\n",
    "                      right=pd.DataFrame(bow_prediction, columns=['Prediction']), left_index=True, \\\n",
    "                      right_index=True)"
   ]
  },
  {
   "cell_type": "code",
   "execution_count": 34,
   "id": "assured-japanese",
   "metadata": {},
   "outputs": [
    {
     "data": {
      "text/html": [
       "<div>\n",
       "<style scoped>\n",
       "    .dataframe tbody tr th:only-of-type {\n",
       "        vertical-align: middle;\n",
       "    }\n",
       "\n",
       "    .dataframe tbody tr th {\n",
       "        vertical-align: top;\n",
       "    }\n",
       "\n",
       "    .dataframe thead th {\n",
       "        text-align: right;\n",
       "    }\n",
       "</style>\n",
       "<table border=\"1\" class=\"dataframe\">\n",
       "  <thead>\n",
       "    <tr style=\"text-align: right;\">\n",
       "      <th></th>\n",
       "      <th>Review</th>\n",
       "      <th>Sentiment</th>\n",
       "      <th>Prediction</th>\n",
       "    </tr>\n",
       "  </thead>\n",
       "  <tbody>\n",
       "    <tr>\n",
       "      <th>0</th>\n",
       "      <td>ive driven Fords since I got my Mustang when ...</td>\n",
       "      <td>Pos</td>\n",
       "      <td>Pos</td>\n",
       "    </tr>\n",
       "    <tr>\n",
       "      <th>1</th>\n",
       "      <td>My wife loves the Explorer but she is 5 5   t...</td>\n",
       "      <td>Neg</td>\n",
       "      <td>Pos</td>\n",
       "    </tr>\n",
       "    <tr>\n",
       "      <th>2</th>\n",
       "      <td>We 146ve had our 98 Windstar since it was new...</td>\n",
       "      <td>Pos</td>\n",
       "      <td>Neg</td>\n",
       "    </tr>\n",
       "    <tr>\n",
       "      <th>3</th>\n",
       "      <td>im a Toyota person  but I came very close to ...</td>\n",
       "      <td>Pos</td>\n",
       "      <td>Neg</td>\n",
       "    </tr>\n",
       "    <tr>\n",
       "      <th>4</th>\n",
       "      <td>I have a 1991 Ford Escort LX  im 16 years old...</td>\n",
       "      <td>Pos</td>\n",
       "      <td>Pos</td>\n",
       "    </tr>\n",
       "  </tbody>\n",
       "</table>\n",
       "</div>"
      ],
      "text/plain": [
       "                                              Review Sentiment Prediction\n",
       "0   ive driven Fords since I got my Mustang when ...       Pos        Pos\n",
       "1   My wife loves the Explorer but she is 5 5   t...       Neg        Pos\n",
       "2   We 146ve had our 98 Windstar since it was new...       Pos        Neg\n",
       "3   im a Toyota person  but I came very close to ...       Pos        Neg\n",
       "4   I have a 1991 Ford Escort LX  im 16 years old...       Pos        Pos"
      ]
     },
     "execution_count": 34,
     "metadata": {},
     "output_type": "execute_result"
    }
   ],
   "source": [
    "# Output sample of predictions\n",
    "results_df[:5]"
   ]
  },
  {
   "cell_type": "markdown",
   "id": "mathematical-bronze",
   "metadata": {},
   "source": [
    "#### Confusion Matrix"
   ]
  },
  {
   "cell_type": "code",
   "execution_count": 35,
   "id": "continental-server",
   "metadata": {},
   "outputs": [],
   "source": [
    "# Create confusion matrix using the predictions and true labels of the test set\n",
    "bow_cm = confusion_matrix(y_true=df_test['Sentiment'], y_pred=bow_prediction, labels=['Pos','Neg'])"
   ]
  },
  {
   "cell_type": "code",
   "execution_count": 36,
   "id": "moving-abuse",
   "metadata": {},
   "outputs": [
    {
     "data": {
      "image/png": "[encoded data removed]",
      "text/plain": [
       "<Figure size 432x288 with 2 Axes>"
      ]
     },
     "metadata": {
      "needs_background": "light"
     },
     "output_type": "display_data"
    }
   ],
   "source": [
    "# Configure group names, counts and percentage metrics\n",
    "bow_group_names = ['True Pos','False Neg','False Pos','True Neg']\n",
    "\n",
    "bow_group_counts = [\"{0:0.0f}\".format(value) for value in\n",
    "                bow_cm.flatten()]\n",
    "\n",
    "bow_group_percentages = [\"{0:.2%}\".format(value/np.sum(row)) for row in bow_cm for value in row]\n",
    "\n",
    "\n",
    "# Configure labels for each segment\n",
    "bow_labels = [f\"{v1}\\n{v2}\\n{v3}\" for v1, v2, v3 in\n",
    "          zip(bow_group_names,bow_group_counts,bow_group_percentages)]\n",
    "\n",
    "bow_labels = np.asarray(bow_labels).reshape(2,2)\n",
    "\n",
    "cms = sns.heatmap(bow_cm, annot=bow_labels, fmt='', cmap='Blues', xticklabels=['Pos','Neg'], yticklabels=['Pos','Neg'])\n",
    "\n",
    "plt.xlabel(\"Predicted Label\") \n",
    "\n",
    "plt.ylabel(\"True Label\") \n",
    "\n",
    "plt.title(\"Confusion Matrix for Bag of Words & MultinomialNB Classifier\")\n",
    "\n",
    "plt.show()\n",
    "# Credit : https://medium.com/@dtuk81/confusion-matrix-visualization-fc31e3f30fea"
   ]
  },
  {
   "cell_type": "code",
   "execution_count": 37,
   "id": "specialized-hamburg",
   "metadata": {},
   "outputs": [
    {
     "name": "stdout",
     "output_type": "stream",
     "text": [
      "Number of True Positives : 108 - the correct 'Pos' predictions\n",
      "\n",
      "Number of False Positives : 32 - the incorrect 'Pos' predictions (true label is 'Neg')\n",
      "\n",
      "Number of True Negatives : 106 - the correct 'Neg' predictions \n",
      "\n",
      "Number of False Negatives : 31 - the incorrect 'Neg' predictions (true label is 'Pos') \n",
      "\n"
     ]
    }
   ],
   "source": [
    "# Calculate counts of TP/TN/FP/FN to verify against confusion matrix\n",
    "print(f\"Number of True Positives : {results_df[(results_df['Sentiment']=='Pos') & (results_df['Prediction']=='Pos')].shape[0]} - the correct 'Pos' predictions\\n\")\n",
    "print(f\"Number of False Positives : {results_df[(results_df['Sentiment']=='Neg') & (results_df['Prediction']=='Pos')].shape[0]} - the incorrect 'Pos' predictions (true label is 'Neg')\\n\")\n",
    "print(f\"Number of True Negatives : {results_df[(results_df['Sentiment']=='Neg') & (results_df['Prediction']=='Neg')].shape[0]} - the correct 'Neg' predictions \\n\")\n",
    "print(f\"Number of False Negatives : {results_df[(results_df['Sentiment']=='Pos') & (results_df['Prediction']=='Neg')].shape[0]} - the incorrect 'Neg' predictions (true label is 'Pos') \\n\")"
   ]
  },
  {
   "cell_type": "markdown",
   "id": "exotic-singing",
   "metadata": {},
   "source": [
    "The confusion matrix for the classifier shows how the predictions on the test set of the model compare to the true labels. The number in each segment shows how many rows with the relevant true label received the relevant prediction, and the percentage represents the proportion of the true labels, with horizontally adjacent cells adding up to 100%.\n",
    "\n",
    "The confusion matrix shows an approximately even balance of the models ability to predict both positive and negative classes, with the former being slightly better at 77.7% compared to the latter 76.8% in the true positive and true negative rates, respectively."
   ]
  },
  {
   "cell_type": "markdown",
   "id": "technical-helping",
   "metadata": {},
   "source": [
    "# Part Two: Term Frequency - Inverse Document Frequency"
   ]
  },
  {
   "cell_type": "markdown",
   "id": "infinite-pattern",
   "metadata": {},
   "source": [
    "### ASSESSMENT CRITERIA 2.1"
   ]
  },
  {
   "cell_type": "markdown",
   "id": "married-restoration",
   "metadata": {},
   "source": [
    "Another approach to obtaining vectorisations is the Term Frequency - Inverse Document Frequency (TF-IDF) method. It offers an opportunity to train a model with data that contains more granular information about each particular words relevance to it's containing document.\n",
    "\n",
    "TF-IDF consists of two components:\n",
    "- <b>The Term Frequency</b> - a measure of the occurrence / frequency of a term in a given document and (it's simplest form) is given by:\n",
    "\n",
    "   TF(t,d) = $ \\frac{t}{d} $\n",
    "   \n",
    "   Where `t` is the count of a particular term in a document and `d` is the total term count in the document\n",
    "     \n",
    "     \n",
    "\n",
    "- <b>The Inverse Document Frequency</b> - a measure of how rare that word is in the rest of the corpus, with values closer to 0 equating to being more common. The most basic version is given by:\n",
    "\n",
    "     IDF(t) = $  \\frac {N}{df}$ \n",
    "     \n",
    "   Where `N` is the number of documents in the corpus and `df` is the count of occurrences of term t in the entire corpus\n",
    "     \n",
    "These two are multiplied to give the TF-IDF:\n",
    "\n",
    "    TF.IDF = TF(t,d) . IDF(t)\n",
    "\n",
    "<b> Additional Remarks </b>\n",
    "\n",
    "\n",
    "In the cell below the parameter `sublinear_tf` is being applied, which addresses the notion that 20 occurrences of a particular term in a single document does not necessarily equate to 20 times more importance than a word that appears once. It is a modification of the TF component. [2]\n",
    "\n",
    "Normalisation is also applied via `norm=l2`, which addresses bias inherent in the length of each document. This is not addresssed in a simple Bag of Words approach. [3]\n",
    "\n",
    "\n",
    "<b> Expectations : 2-3% increase in accuracy </b>\n",
    "\n",
    "- If a word appears many times in a document, it has a high TF. In the bag of words approach above this word would be deemed highly relevant to the classification. However in TF-IDF if that term also appears many times throughout the entire corpus (it has a low IDF), the word will be subsequently downgraded in it's importance/weighting for the given label. This gives the opportunity for improvement as common words such as 'car' and 'engine' are likely to be given less importance than uncommon words like 'incredible' or 'awful', and will force the classifier to focus on these when training the weights.\n",
    "\n",
    "\n",
    "- In [The Impact of Features Extraction on the Sentiment Analysis](https://www.sciencedirect.com/science/article/pii/S1877050919306593) the authors report on an analysis of Twitter sentiments comparing the results of a Bag of Words approach with TF-IDF. Using a Naïve Bayes model the paper reports that using TF-IDF delivered <b> accuracy gains of approximately 3-4% </b>[4] above that delivered by the Bag of Words approach. However, given that the dataset used by the authors contains approximately 4,200 rows of data  , that each row of data is limited to 280 characters, and also that there are three sentiment classes (Positive, Negative & Neutral), I would not expect gains as high as this in the current experiment, as the Car Review dataset is not as extensive and contains the potential for neutral reviews to be contained in either of the two classes.\n"
   ]
  },
  {
   "cell_type": "markdown",
   "id": "cutting-warren",
   "metadata": {},
   "source": [
    "### Implementation of TF-IDF (ASSESSMENT CRITERIA 2.2 & 2.3)\n",
    "\n",
    "Scikit-learn provides a `TFidfVectorizer` class which is used to calculate the TF-IDF vectors directly from the input strings. The approach builds on the `CountVectorizer` (Bag of Words) class, in that first the term frequencies are calculated, which are then combined with the inverse document frequencies. \n",
    "\n",
    "#### Steps to produce"
   ]
  },
  {
   "cell_type": "markdown",
   "id": "sustainable-platinum",
   "metadata": {},
   "source": [
    "1. First the `TFidfVectorizer` class is instantiated. The parameters used in the cell below are :\n",
    "- `ngram_range = (1,1)` : This uses the same n-gram range as before for consistency.\n",
    "\n",
    "\n",
    "- `binary=False` : This is used for consistency with the bag of words approach, where word frequencies are counted in absolute terms rather than having a 0 or 1 to indicate a terms presence in the vector.\n",
    "\n",
    "\n",
    "- `sublinear_tf=True` : As explained above, this parameter changes the default linear approach to how term frequency translates to importance to a scaled approach.\n",
    "\n",
    "\n",
    "- `norm=l2 (default)` : As above, this addresses document length bias."
   ]
  },
  {
   "cell_type": "code",
   "execution_count": 38,
   "id": "worst-occasions",
   "metadata": {},
   "outputs": [],
   "source": [
    "tfidf_cls = TfidfVectorizer(ngram_range=(1,1), norm='l2', smooth_idf=False, binary=False, sublinear_tf=False)"
   ]
  },
  {
   "cell_type": "markdown",
   "id": "improved-giant",
   "metadata": {},
   "source": [
    "2. Next, the vectoriser is both fitted using the same preprocessed training dataset as before (`fit`), and the training set itself is vectorised (`transform`) using that fitted model."
   ]
  },
  {
   "cell_type": "code",
   "execution_count": 39,
   "id": "handed-fashion",
   "metadata": {},
   "outputs": [],
   "source": [
    "train_tfidf = tfidf_cls.fit_transform(df_train['Review_Preprocessed'].values)"
   ]
  },
  {
   "cell_type": "markdown",
   "id": "composite-float",
   "metadata": {},
   "source": [
    "3. Next, the Multinomial Naïve Bayes model is instantiated and the vectorised training set is used to fit the model along with the labels (as before but with the new vectorised data):"
   ]
  },
  {
   "cell_type": "code",
   "execution_count": 40,
   "id": "regulation-explorer",
   "metadata": {},
   "outputs": [
    {
     "data": {
      "text/plain": [
       "MultinomialNB()"
      ]
     },
     "execution_count": 40,
     "metadata": {},
     "output_type": "execute_result"
    }
   ],
   "source": [
    "mnb_tfidf = MultinomialNB()\n",
    "mnb_tfidf.fit(train_tfidf, df_train['Sentiment'].values)"
   ]
  },
  {
   "cell_type": "markdown",
   "id": "neural-recommendation",
   "metadata": {},
   "source": [
    "4. The next step is to use the fitted `TfidfVectorizer` class to vectorise the test set."
   ]
  },
  {
   "cell_type": "code",
   "execution_count": 41,
   "id": "collect-jerusalem",
   "metadata": {},
   "outputs": [],
   "source": [
    "tfidf_test_vect = tfidf_cls.transform(df_test['Review_Preprocessed'].values)"
   ]
  },
  {
   "cell_type": "markdown",
   "id": "shaped-anderson",
   "metadata": {},
   "source": [
    "A sample of the output of the TF-IDF vector is shown below. It can be seen here that the result is a vector of floating point numbers in contrast to the integer counts in the Bag of Words vectors. This is because of the representation of relevance of a word to a particular document."
   ]
  },
  {
   "cell_type": "code",
   "execution_count": 42,
   "id": "described-instruction",
   "metadata": {},
   "outputs": [],
   "source": [
    "# Take first array as a sample\n",
    "tfidf_sample = tfidf_test_vect.toarray()[0]"
   ]
  },
  {
   "cell_type": "code",
   "execution_count": 43,
   "id": "fitting-lexington",
   "metadata": {},
   "outputs": [
    {
     "data": {
      "text/plain": [
       "array([0.28149892, 0.19020505, 0.18866761, ..., 0.        , 0.        ,\n",
       "       0.        ])"
      ]
     },
     "execution_count": 43,
     "metadata": {},
     "output_type": "execute_result"
    }
   ],
   "source": [
    "# Sort by descending value\n",
    "np.sort(tfidf_sample)[::-1]"
   ]
  },
  {
   "cell_type": "markdown",
   "id": "diverse-victoria",
   "metadata": {},
   "source": [
    "5. Finally the TF-IDF vector representation is then passed forward through the model to obtain predictions:"
   ]
  },
  {
   "cell_type": "code",
   "execution_count": 44,
   "id": "functional-bailey",
   "metadata": {},
   "outputs": [],
   "source": [
    "tfidf_prediction = mnb_tfidf.predict(tfidf_test_vect)"
   ]
  },
  {
   "cell_type": "markdown",
   "id": "historic-clause",
   "metadata": {},
   "source": [
    "### ASSESSMENT CRITERIA 2.4 - Model Comparison\n",
    "\n",
    "The confusion matrix for the TF-IDF-based predictions is shown below alongside the Bag of Words-based confusion matrix."
   ]
  },
  {
   "cell_type": "code",
   "execution_count": 45,
   "id": "excited-madagascar",
   "metadata": {},
   "outputs": [],
   "source": [
    "# Configure TF-IDF Confusion Matrix\n",
    "tfidf_cm = confusion_matrix(y_true=df_test['Sentiment'], y_pred=tfidf_prediction, labels=['Pos','Neg'])\n",
    "\n",
    "# Configure group names, counts and % metrics\n",
    "tf_group_names = ['True Pos','False Neg','False Pos','True Neg']\n",
    "tf_group_counts = [\"{0:0.0f}\".format(value) for value in\n",
    "                tfidf_cm.flatten()]\n",
    "tf_group_percentages = [\"{0:.2%}\".format(value/np.sum(row)) for row in tfidf_cm for value in row]\n",
    "\n",
    "# Configure labels for each segment\n",
    "tf_labels = [f\"{v1}\\n{v2}\\n{v3}\" for v1, v2 , v3 in\n",
    "          zip(tf_group_names,tf_group_counts,tf_group_percentages)]\n",
    "tf_labels = np.asarray(tf_labels).reshape(2,2)\n"
   ]
  },
  {
   "cell_type": "code",
   "execution_count": 46,
   "id": "improved-thumbnail",
   "metadata": {},
   "outputs": [
    {
     "data": {
      "image/png": "[encoded data removed]",
      "text/plain": [
       "<Figure size 864x864 with 4 Axes>"
      ]
     },
     "metadata": {
      "needs_background": "light"
     },
     "output_type": "display_data"
    }
   ],
   "source": [
    "# Define multiple subplots\n",
    "fig, axn = plt.subplots(2,figsize=(12,12))\n",
    "\n",
    "# Re-create seaborn plots with new axes\n",
    "tfidf_cms = sns.heatmap(tfidf_cm, annot=tf_labels,ax=axn[1], fmt='', cmap='Blues', xticklabels=['Pos','Neg'], yticklabels=['Pos','Neg'])\n",
    "bowcms = sns.heatmap(bow_cm, annot=bow_labels,ax=axn[0], fmt='', cmap='Blues', xticklabels=['Pos','Neg'], yticklabels=['Pos','Neg'])\n",
    "\n",
    "# Set labels\n",
    "axn[0].set_title(\"Bag of Words & MultinomialNB Classifier\")\n",
    "axn[1].set_title(\"TF-IDF & MultinomialNB Classifier\")\n",
    "axn[0].set_xlabel(\"Predicted Label\")\n",
    "axn[1].set_xlabel(\"Predicted Label\")\n",
    "axn[0].set_ylabel(\"True Label\")\n",
    "axn[1].set_ylabel(\"True Label\")\n",
    "\n",
    "plt.show()"
   ]
  },
  {
   "cell_type": "markdown",
   "id": "strategic-escape",
   "metadata": {},
   "source": [
    "The first chart above shows the confusion matrix associated with the test predictions using the Bag of Words approach, and the second is the TF-IDF-based matrix. The percentages in each segment relate to the true label on the y-axis, for example in the BoW approach the 23.19% False Positive rate means that 23.19% of the rows with an original/true label of 'Neg' were given the prediction 'Pos'. Adding the percentage in the adjacent 'True Neg' box (i.e. 76.81%) equates to 100% i.e. the total of the 'Neg' true labels.\n",
    "\n",
    "The true positives (TP), that is the rows that the model predicted 'Pos' and was correct, represents 78% of the 'Pos' true labels with the BoW model. The TF-IDF model shows an increase of 3% in it's TP rate. This coincides with a 3% decrease in the false negative rate, that is the rows the model predicted 'Neg' when it should have predicted 'Pos'.\n",
    "\n",
    "So far it can be seen that the model has become better at predicting 'Pos' labels. However looking at how the new model determines a negative, it can be observed that performance has declined, as it's true negative rate  i.e. the instances where the model predicts 'Neg' and got it correct, has fallen from 77% to 74%.\n",
    "\n",
    "From the above two charts, it is unclear whether an improvement has been attained by using the TF-IDF approach. To investigate further, the below cell shows the output of the `classification_report` from scikit-learn for the two methods:"
   ]
  },
  {
   "cell_type": "code",
   "execution_count": 47,
   "id": "cheap-comedy",
   "metadata": {},
   "outputs": [
    {
     "name": "stdout",
     "output_type": "stream",
     "text": [
      "BoW Prediction Report\n",
      "              precision    recall  f1-score   support\n",
      "\n",
      "         Pos       0.77      0.78      0.77       139\n",
      "         Neg       0.77      0.77      0.77       138\n",
      "\n",
      "    accuracy                           0.77       277\n",
      "   macro avg       0.77      0.77      0.77       277\n",
      "weighted avg       0.77      0.77      0.77       277\n",
      "\n",
      "\n",
      "\n",
      "TF-IDF Prediction Report\n",
      "              precision    recall  f1-score   support\n",
      "\n",
      "         Pos       0.76      0.81      0.78       139\n",
      "         Neg       0.80      0.74      0.77       138\n",
      "\n",
      "    accuracy                           0.78       277\n",
      "   macro avg       0.78      0.78      0.78       277\n",
      "weighted avg       0.78      0.78      0.78       277\n",
      "\n"
     ]
    }
   ],
   "source": [
    "print(\"BoW Prediction Report\")\n",
    "print(sklearn.metrics.classification_report(y_true=df_test['Sentiment'], y_pred=bow_prediction, labels=['Pos','Neg']))\n",
    "\n",
    "print(\"\\n\\nTF-IDF Prediction Report\")\n",
    "print(sklearn.metrics.classification_report(y_true=df_test['Sentiment'], y_pred=tfidf_prediction, labels=['Pos','Neg']))"
   ]
  },
  {
   "cell_type": "markdown",
   "id": "accepted-charles",
   "metadata": {},
   "source": [
    "<b>Precision</b> is defined as: $ TP / (TP + FP ) $ ,showing the proportion of the correct positive predictions to the total positive predictions. Intuitively this means \"of all the rows the model predicted a particular class, how many did it get right?\" ('positive' here doesn't necessarily mean the 'Pos' class; it is interchangeable for either label as shown in the table).\n",
    "\n",
    "From the weighted average precision rate, the TF-IDF model performs 1% better than the BoW model, however this is a combination of an increase in performance of the 'Neg' class but a decrease in performance of the 'Pos' class.\n",
    "\n",
    "<b>Recall</b> is defined as: $ TP / (TP + FN) $ ,showing the proportion of correct positives to the actual total positives. It gives an indication of coverage. Intuitively this describes \"of all the actual 'Pos' classes, how many did the model capture?\"\n",
    "\n",
    "From the weighted average recall rate, again the TF-IDF model performed 1% better, but recall on the 'Pos' class has improved from 78% to 81% and on the 'Neg' class has declined from 77% to 74% between the two models.\n",
    "\n",
    "Without having a specific preference for either precision or recall, it makes sense to observe the F1-score to determine the overall performance. The F1-score is a blended average of precision and recall, and overall this confirms that the TF-IDF approach performs marginally better (1%) than the Bag of Words approach. This is less than the Twitter analysis papers report of a 3-4% improvement, however given the previously outlined points about the size of the Twitter dataset, the number of classes and the more consistent length of the rows, this seems a reasonable result. "
   ]
  },
  {
   "cell_type": "markdown",
   "id": "inclusive-julian",
   "metadata": {},
   "source": [
    "## A further explanation for expected gains not realised\n",
    "\n",
    "The below cells show a brief investigation into the false negative predictions that the model gave strong probabilities for, concluding with a hypothesis for why the anticipated gains from using a more sophisticated approach (TF-IDF) were not realised.\n",
    "\n",
    "1. The probabilities of the predictions for each approach are merged along with the actual predictions to the original test dataset.\n",
    "\n",
    "\n",
    "2. The resulting dataframe is then filtered to show 'Pos' true labels and 'Neg' predictions i.e. the false negatives.\n",
    "\n",
    "\n",
    "3. The filtered dataframe is then sorted by the probability output of the tf-idf-based model, in order to find the predictions for which the model was incorrect, but was most confident about it being correct."
   ]
  },
  {
   "cell_type": "code",
   "execution_count": 48,
   "id": "infinite-inside",
   "metadata": {},
   "outputs": [],
   "source": [
    "# Disable SettingWithCopyWarning occurring in the below lines\n",
    "pd.options.mode.chained_assignment = None\n",
    "\n",
    "# Obtain probabilities per prediction per class from both models\n",
    "tf_pred_prob = mnb_tfidf.predict_proba(tfidf_test_vect)\n",
    "bow_pred_prob = bow_mnb.predict_proba(bow_test_vect)\n",
    "\n",
    "# Assign new columns detailing these probabilities\n",
    "df_test['tf_prob_Neg'] = tf_pred_prob[:,0] \n",
    "df_test['tf_prob_Pos'] = tf_pred_prob[:,1]\n",
    "df_test['bow_prob_Neg'] = bow_pred_prob[:,0] \n",
    "df_test['bow_prob_Pos'] = bow_pred_prob[:,1]"
   ]
  },
  {
   "cell_type": "code",
   "execution_count": 49,
   "id": "incorrect-somerset",
   "metadata": {},
   "outputs": [],
   "source": [
    "# Combine predictions with original test dataset + probabilities\n",
    "results_df = pd.merge(left=df_test[['Review','Sentiment','bow_prob_Neg','tf_prob_Neg']].reset_index(drop=True), right=pd.DataFrame(tfidf_prediction, columns=['Prediction']), left_index=True, right_index=True)"
   ]
  },
  {
   "cell_type": "code",
   "execution_count": 50,
   "id": "occupational-agreement",
   "metadata": {},
   "outputs": [],
   "source": [
    "# Filter results for false negatives only (true label = Pos & prediction = Neg)\n",
    "false_negs = results_df[(results_df['Sentiment'] == 'Pos') & (results_df['Prediction'] == 'Neg' )]"
   ]
  },
  {
   "cell_type": "code",
   "execution_count": 51,
   "id": "enclosed-schedule",
   "metadata": {},
   "outputs": [],
   "source": [
    "# # Uncomment this cell to read the below reviews in full\n",
    "\n",
    "# from IPython.core.display import display, HTML\n",
    "# display(HTML(\"<style>.container { width:100% !important; }</style>\"))\n",
    "# pd.set_option('display.max_colwidth', None)"
   ]
  },
  {
   "cell_type": "code",
   "execution_count": 52,
   "id": "accessory-charger",
   "metadata": {},
   "outputs": [
    {
     "data": {
      "text/html": [
       "<div>\n",
       "<style scoped>\n",
       "    .dataframe tbody tr th:only-of-type {\n",
       "        vertical-align: middle;\n",
       "    }\n",
       "\n",
       "    .dataframe tbody tr th {\n",
       "        vertical-align: top;\n",
       "    }\n",
       "\n",
       "    .dataframe thead th {\n",
       "        text-align: right;\n",
       "    }\n",
       "</style>\n",
       "<table border=\"1\" class=\"dataframe\">\n",
       "  <thead>\n",
       "    <tr style=\"text-align: right;\">\n",
       "      <th></th>\n",
       "      <th>Review</th>\n",
       "      <th>Sentiment</th>\n",
       "      <th>bow_prob_Neg</th>\n",
       "      <th>tf_prob_Neg</th>\n",
       "      <th>Prediction</th>\n",
       "    </tr>\n",
       "  </thead>\n",
       "  <tbody>\n",
       "    <tr>\n",
       "      <th>97</th>\n",
       "      <td>In September I purchased my Ford Explorer Spo...</td>\n",
       "      <td>Pos</td>\n",
       "      <td>1.0</td>\n",
       "      <td>0.853547</td>\n",
       "      <td>Neg</td>\n",
       "    </tr>\n",
       "    <tr>\n",
       "      <th>61</th>\n",
       "      <td>Some of you might have read my previous post ...</td>\n",
       "      <td>Pos</td>\n",
       "      <td>1.0</td>\n",
       "      <td>0.805820</td>\n",
       "      <td>Neg</td>\n",
       "    </tr>\n",
       "    <tr>\n",
       "      <th>266</th>\n",
       "      <td>Ok  I have reviewed the 97GT and the 89GT mus...</td>\n",
       "      <td>Pos</td>\n",
       "      <td>1.0</td>\n",
       "      <td>0.777126</td>\n",
       "      <td>Neg</td>\n",
       "    </tr>\n",
       "    <tr>\n",
       "      <th>131</th>\n",
       "      <td>I never even gave a thought to drive any sort...</td>\n",
       "      <td>Pos</td>\n",
       "      <td>1.0</td>\n",
       "      <td>0.734852</td>\n",
       "      <td>Neg</td>\n",
       "    </tr>\n",
       "    <tr>\n",
       "      <th>223</th>\n",
       "      <td>I have purchased an 1989 SHO sedan with 97k m...</td>\n",
       "      <td>Pos</td>\n",
       "      <td>1.0</td>\n",
       "      <td>0.694041</td>\n",
       "      <td>Neg</td>\n",
       "    </tr>\n",
       "  </tbody>\n",
       "</table>\n",
       "</div>"
      ],
      "text/plain": [
       "                                                Review Sentiment  \\\n",
       "97    In September I purchased my Ford Explorer Spo...       Pos   \n",
       "61    Some of you might have read my previous post ...       Pos   \n",
       "266   Ok  I have reviewed the 97GT and the 89GT mus...       Pos   \n",
       "131   I never even gave a thought to drive any sort...       Pos   \n",
       "223   I have purchased an 1989 SHO sedan with 97k m...       Pos   \n",
       "\n",
       "     bow_prob_Neg  tf_prob_Neg Prediction  \n",
       "97            1.0     0.853547        Neg  \n",
       "61            1.0     0.805820        Neg  \n",
       "266           1.0     0.777126        Neg  \n",
       "131           1.0     0.734852        Neg  \n",
       "223           1.0     0.694041        Neg  "
      ]
     },
     "execution_count": 52,
     "metadata": {},
     "output_type": "execute_result"
    }
   ],
   "source": [
    "# Sort results for the highest 'Neg' probabilities i.e. the worst predictions from the tf-idf model\n",
    "false_negs.sort_values(by=['tf_prob_Neg'], ascending=False)[:5]"
   ]
  },
  {
   "cell_type": "markdown",
   "id": "developing-house",
   "metadata": {},
   "source": [
    "The above sample shows the 5 'worst' predictions, i.e. where the model gave a high probability of being 'Neg' but was technically incorrect. It should be noted that the reviews above are mainly negative as opposed to the given 'Pos' label, with some also being neutral. The extent to which this occurs throughout the dataset is unknown, however in comparing the probabilities given by the Bag of Words model (`bow_prob_neg`) and the tf-idf model (`tf_prob_neg`) it can be seen that both models strongly predict these reviews as being negative. The absence of a neutral class as well as these incorrectly labelled reviews may partially explain why the anticipated gains from using the tf-idf model were not realised, as the errors in the dataset could be severely hindering the performance of any model.\n",
    "\n",
    "This is a significant issue and there is reasonable justification for a manual review of the dataset to either update the true labels, introduce a 'Neutral' class, or extend the dataset to reduce the impact of the erroneous rows."
   ]
  },
  {
   "cell_type": "markdown",
   "id": "selective-socket",
   "metadata": {},
   "source": [
    "### References\n",
    "\n",
    "[1] Mccallum, Andrew & Nigam, Kamal. (2001). A Comparison of Event Models for Naive Bayes Text Classification. Work Learn Text Categ. 752. http://www.cs.cmu.edu/~knigam/papers/multinomial-aaaiws98.pdf\n",
    "\n",
    "[2] Christopher D. Manning, Prabhakar Raghavan, Hinrich Schütze, \"An Introduction to Information Retrieval\", Cambridge University Press, 2009, https://nlp.stanford.edu/IR-book/html/htmledition/sublinear-tf-scaling-1.html\n",
    "\n",
    "[3] Bruno Stecanella, \"What is TF-IDF?\", 2019, https://monkeylearn.com/blog/what-is-tf-idf/#:~:text=TF%2DIDF%20is%20a%20statistical,across%20a%20set%20of%20documents.\n",
    "\n",
    "[4] Ravinder Ahuja, Aakarsha Chug, Shruti Kohli, Shaurya Gupta, Pratyush Ahuja,\n",
    "\"The Impact of Features Extraction on the Sentiment Analysis\",\n",
    "Procedia Computer Science,\n",
    "Volume 152,\n",
    "2019,\n",
    "Pages 341-348,\n",
    "ISSN 1877-0509,\n",
    "(https://www.sciencedirect.com/science/article/pii/S1877050919306593)"
   ]
  }
 ],
 "metadata": {
  "kernelspec": {
   "display_name": "AoAI",
   "language": "python",
   "name": "aoai"
  },
  "language_info": {
   "codemirror_mode": {
    "name": "ipython",
    "version": 3
   },
   "file_extension": ".py",
   "mimetype": "text/x-python",
   "name": "python",
   "nbconvert_exporter": "python",
   "pygments_lexer": "ipython3",
   "version": "3.8.2"
  }
 },
 "nbformat": 4,
 "nbformat_minor": 5
}
